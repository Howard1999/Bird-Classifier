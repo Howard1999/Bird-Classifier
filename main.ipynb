{
 "cells": [
  {
   "cell_type": "code",
   "execution_count": null,
   "id": "headed-pledge",
   "metadata": {},
   "outputs": [],
   "source": [
    "import torch\n",
    "import torchvision\n",
    "import Dataset as D\n",
    "import transform as T\n",
    "from torch.utils.data import DataLoader\n",
    "from validation import validation\n",
    "from plot import show_hist"
   ]
  },
  {
   "cell_type": "code",
   "execution_count": null,
   "id": "paperback-gazette",
   "metadata": {},
   "outputs": [],
   "source": [
    "lr = 0.001\n",
    "batch_size = 128"
   ]
  },
  {
   "cell_type": "code",
   "execution_count": null,
   "id": "empirical-socket",
   "metadata": {},
   "outputs": [],
   "source": [
    "# dataset\n",
    "img_labels = D.ImageLabels('/mnt/training_labels.txt')\n",
    "dataset, val_dataset = D.get_train_val_dataset('/mnt/training_images', img_labels=img_labels,\n",
    "                                               transform=T.get_transform(), val=0.15)\n",
    "class_transformer = D.ClassTransform('/mnt/classes.txt')\n",
    "data_loader = DataLoader(dataset, batch_size=batch_size, shuffle=True, num_workers=32)"
   ]
  },
  {
   "cell_type": "code",
   "execution_count": null,
   "id": "powered-solomon",
   "metadata": {},
   "outputs": [],
   "source": [
    "device = torch.device('cuda:0')"
   ]
  },
  {
   "cell_type": "code",
   "execution_count": null,
   "id": "great-piano",
   "metadata": {},
   "outputs": [],
   "source": [
    "# model\n",
    "model = torch.nn.Sequential(\n",
    "    torchvision.models.resnet50(pretrained=True),\n",
    "    torch.nn.Linear(1000, class_transformer.total_size),\n",
    ")\n",
    "model = torch.nn.DataParallel(model)\n",
    "model.to(device)"
   ]
  },
  {
   "cell_type": "code",
   "execution_count": null,
   "id": "oriented-invention",
   "metadata": {},
   "outputs": [],
   "source": [
    "# optimizer\n",
    "optimizer = torch.optim.Adam(model.parameters(), lr=lr, weight_decay=1e-6)"
   ]
  },
  {
   "cell_type": "code",
   "execution_count": null,
   "id": "modular-undergraduate",
   "metadata": {},
   "outputs": [],
   "source": [
    "# loss\n",
    "loss_function = torch.nn.CrossEntropyLoss()"
   ]
  },
  {
   "cell_type": "code",
   "execution_count": null,
   "id": "injured-bruce",
   "metadata": {},
   "outputs": [],
   "source": [
    "# training history\n",
    "train_loss, validation_loss = [], []\n",
    "train_acc, validation_acc = [], []"
   ]
  },
  {
   "cell_type": "code",
   "execution_count": null,
   "id": "aging-blade",
   "metadata": {},
   "outputs": [],
   "source": [
    "from IPython.display import clear_output\n",
    "\n",
    "# training loop\n",
    "epoch = 100\n",
    "for i in range(epoch):\n",
    "    # train\n",
    "    model.train()\n",
    "    loss_sum, positive, cnt = 0., 0, 0\n",
    "    for labels, images in data_loader:\n",
    "        y_true = torch.tensor(class_transformer.to_order(labels)).to(device)\n",
    "        y_pred = model(images.to(device))\n",
    "\n",
    "        loss = loss_function(y_pred, y_true)\n",
    "\n",
    "        optimizer.zero_grad()\n",
    "        loss.backward()\n",
    "        optimizer.step()\n",
    "\n",
    "        # metrics\n",
    "        cnt += 1\n",
    "        loss_sum += loss.item()\n",
    "        pre_class = class_transformer.to_class_name(y_pred)\n",
    "        for ind, pre_label in enumerate(pre_class):\n",
    "            if pre_class == labels[ind]:\n",
    "                positive += 1\n",
    "\n",
    "    # validation\n",
    "    model.eval()\n",
    "    metrics = validation(model, val_dataset, class_transformer, loss_function, device)\n",
    "\n",
    "    # record the loss\n",
    "    train_loss.append(loss_sum/cnt)\n",
    "    validation_loss.append(metrics['loss'])\n",
    "\n",
    "    # record the acc\n",
    "    train_acc.append(positive / len(dataset))\n",
    "    validation_acc.append(metrics['acc'])\n",
    "\n",
    "    print('epoch', i, 'finish')\n",
    "    print(metrics)\n",
    "\n",
    "    \n",
    "    clear_output()\n",
    "    show_hist([train_loss, validation_loss], 'loss', ['train', 'validation'])\n",
    "    show_hist([train_acc, validation_acc], 'acc', ['train', 'validation'])"
   ]
  },
  {
   "cell_type": "code",
   "execution_count": null,
   "id": "brief-original",
   "metadata": {},
   "outputs": [],
   "source": []
  }
 ],
 "metadata": {
  "kernelspec": {
   "display_name": "Python 3",
   "language": "python",
   "name": "python3"
  },
  "language_info": {
   "codemirror_mode": {
    "name": "ipython",
    "version": 3
   },
   "file_extension": ".py",
   "mimetype": "text/x-python",
   "name": "python",
   "nbconvert_exporter": "python",
   "pygments_lexer": "ipython3",
   "version": "3.7.9"
  }
 },
 "nbformat": 4,
 "nbformat_minor": 5
}
